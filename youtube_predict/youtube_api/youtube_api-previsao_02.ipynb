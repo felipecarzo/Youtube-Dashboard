{
 "cells": [
  {
   "cell_type": "code",
   "execution_count": 2,
   "metadata": {},
   "outputs": [
    {
     "name": "stdout",
     "output_type": "stream",
     "text": [
      "📊 Previsão de Visualizações: 33445\n"
     ]
    }
   ],
   "source": [
    "import pandas as pd\n",
    "import joblib\n",
    "\n",
    "# 🚀 1️⃣ Carregar o modelo atualizado e os vetorizadores\n",
    "model_xgb_tuned = joblib.load(\"modelo_xgb_tuned.pkl\")\n",
    "vectorizer_title = joblib.load(\"vectorizer_title.pkl\")\n",
    "X_train_columns = joblib.load(\"X_train_columns.pkl\")\n",
    "\n",
    "# 🚀 2️⃣ Criar um novo vídeo para teste (só precisa mudar os dados aqui)\n",
    "novo_video = pd.DataFrame({\n",
    "    \"title\": [\"Ele passou o trator e encontrou seu arqui-inimigo: RODOLFO TRATOR | Fala Monstro Talk Show #19\"],\n",
    "    \"description\": [\"(Não é mais usada, pode deixar qualquer coisa)\"],\n",
    "    \"duration_sec\": [9000], \n",
    "    \"year\": [2025],\n",
    "    \"month\": [2],\n",
    "    \"day\": [2],\n",
    "    \"weekday\": [\"Sunday\"],  # Ajustar conforme necessário\n",
    "    \"likes\": [0],\n",
    "    \"comments\": [0],\n",
    "    \"likes_per_view\": [0],\n",
    "    \"comments_per_view\": [0],\n",
    "    \"title_word_count\": [len(\"Novo título do vídeo\".split())]  # Contar palavras no título\n",
    "})\n",
    "\n",
    "# 🚀 3️⃣ Transformar o título em TF-IDF (apenas o título agora)\n",
    "novo_video_title_tfidf = vectorizer_title.transform(novo_video[\"title\"]).toarray()\n",
    "\n",
    "# Criar DataFrame com TF-IDF\n",
    "df_title_tfidf_novo = pd.DataFrame(novo_video_title_tfidf, columns=vectorizer_title.get_feature_names_out())\n",
    "\n",
    "# Juntar os dados numéricos com TF-IDF\n",
    "novo_video_model = pd.concat([novo_video.drop(columns=[\"title\", \"description\"]), df_title_tfidf_novo], axis=1)\n",
    "\n",
    "# 🚀 4️⃣ Garantir que todas as colunas sejam as mesmas do treino\n",
    "novo_video_model = novo_video_model.reindex(columns=X_train_columns, fill_value=0)\n",
    "novo_video_model = novo_video_model.apply(pd.to_numeric, errors=\"coerce\")\n",
    "\n",
    "# 🚀 5️⃣ Fazer a previsão\n",
    "previsao_visualizacoes = model_xgb_tuned.predict(novo_video_model.to_numpy())\n",
    "\n",
    "# 🚀 6️⃣ Exibir a previsão\n",
    "print(f\"📊 Previsão de Visualizações: {int(previsao_visualizacoes[0])}\")"
   ]
  },
  {
   "cell_type": "code",
   "execution_count": null,
   "metadata": {},
   "outputs": [],
   "source": []
  }
 ],
 "metadata": {
  "kernelspec": {
   "display_name": "venv",
   "language": "python",
   "name": "python3"
  },
  "language_info": {
   "codemirror_mode": {
    "name": "ipython",
    "version": 3
   },
   "file_extension": ".py",
   "mimetype": "text/x-python",
   "name": "python",
   "nbconvert_exporter": "python",
   "pygments_lexer": "ipython3",
   "version": "3.12.2"
  }
 },
 "nbformat": 4,
 "nbformat_minor": 2
}
