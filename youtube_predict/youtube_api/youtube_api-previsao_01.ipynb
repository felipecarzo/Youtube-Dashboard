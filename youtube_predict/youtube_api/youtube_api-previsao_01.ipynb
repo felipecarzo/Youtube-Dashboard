{
 "cells": [
  {
   "cell_type": "code",
   "execution_count": 64,
   "metadata": {},
   "outputs": [
    {
     "name": "stdout",
     "output_type": "stream",
     "text": [
      "✅ Modelo e colunas carregadas. Total de features esperadas: 110\n"
     ]
    }
   ],
   "source": [
    "import joblib\n",
    "import pandas as pd\n",
    "\n",
    "# Carregar o modelo treinado e as colunas usadas no treino\n",
    "model_xgb_tuned = joblib.load(\"modelo_xgb_tuned.pkl\")\n",
    "vectorizer_title = joblib.load(\"vectorizer_title.pkl\")\n",
    "vectorizer_desc = joblib.load(\"vectorizer_desc.pkl\")\n",
    "X_train_columns = joblib.load(\"X_train_columns.pkl\")\n",
    "\n",
    "print(f\"✅ Modelo e colunas carregadas. Total de features esperadas: {len(X_train_columns)}\")"
   ]
  },
  {
   "cell_type": "code",
   "execution_count": 65,
   "metadata": {},
   "outputs": [
    {
     "data": {
      "text/html": [
       "<div>\n",
       "<style scoped>\n",
       "    .dataframe tbody tr th:only-of-type {\n",
       "        vertical-align: middle;\n",
       "    }\n",
       "\n",
       "    .dataframe tbody tr th {\n",
       "        vertical-align: top;\n",
       "    }\n",
       "\n",
       "    .dataframe thead th {\n",
       "        text-align: right;\n",
       "    }\n",
       "</style>\n",
       "<table border=\"1\" class=\"dataframe\">\n",
       "  <thead>\n",
       "    <tr style=\"text-align: right;\">\n",
       "      <th></th>\n",
       "      <th>title</th>\n",
       "      <th>description</th>\n",
       "      <th>duration_sec</th>\n",
       "      <th>year</th>\n",
       "      <th>month</th>\n",
       "      <th>day</th>\n",
       "      <th>weekday_Monday</th>\n",
       "      <th>weekday_Tuesday</th>\n",
       "      <th>weekday_Wednesday</th>\n",
       "      <th>weekday_Thursday</th>\n",
       "      <th>weekday_Friday</th>\n",
       "      <th>weekday_Saturday</th>\n",
       "      <th>weekday_Sunday</th>\n",
       "    </tr>\n",
       "  </thead>\n",
       "  <tbody>\n",
       "    <tr>\n",
       "      <th>0</th>\n",
       "      <td>Melhor Treino para Hipertrofia</td>\n",
       "      <td>Aprenda os melhores exercícios para ganhar mas...</td>\n",
       "      <td>600</td>\n",
       "      <td>2025</td>\n",
       "      <td>1</td>\n",
       "      <td>31</td>\n",
       "      <td>0</td>\n",
       "      <td>0</td>\n",
       "      <td>1</td>\n",
       "      <td>0</td>\n",
       "      <td>0</td>\n",
       "      <td>0</td>\n",
       "      <td>0</td>\n",
       "    </tr>\n",
       "  </tbody>\n",
       "</table>\n",
       "</div>"
      ],
      "text/plain": [
       "                            title  \\\n",
       "0  Melhor Treino para Hipertrofia   \n",
       "\n",
       "                                         description  duration_sec  year  \\\n",
       "0  Aprenda os melhores exercícios para ganhar mas...           600  2025   \n",
       "\n",
       "   month  day  weekday_Monday  weekday_Tuesday  weekday_Wednesday  \\\n",
       "0      1   31               0                0                  1   \n",
       "\n",
       "   weekday_Thursday  weekday_Friday  weekday_Saturday  weekday_Sunday  \n",
       "0                 0               0                 0               0  "
      ]
     },
     "execution_count": 65,
     "metadata": {},
     "output_type": "execute_result"
    }
   ],
   "source": [
    "# Criar DataFrame para um novo vídeo (exemplo)\n",
    "novo_video = pd.DataFrame({\n",
    "    \"title\": [\"Melhor Treino para Hipertrofia\"],\n",
    "    \"description\": [\"Aprenda os melhores exercícios para ganhar massa muscular rapidamente!\"],\n",
    "    \"duration_sec\": [600],  # Exemplo: 10 minutos\n",
    "    \"year\": [2025],\n",
    "    \"month\": [1],\n",
    "    \"day\": [31],\n",
    "    \"weekday_Monday\": [0],\n",
    "    \"weekday_Tuesday\": [0],\n",
    "    \"weekday_Wednesday\": [1],  # Se postado na quarta-feira\n",
    "    \"weekday_Thursday\": [0],\n",
    "    \"weekday_Friday\": [0],\n",
    "    \"weekday_Saturday\": [0],\n",
    "    \"weekday_Sunday\": [0]\n",
    "})\n",
    "\n",
    "# Exibir o novo vídeo\n",
    "novo_video"
   ]
  },
  {
   "cell_type": "code",
   "execution_count": 66,
   "metadata": {},
   "outputs": [
    {
     "name": "stdout",
     "output_type": "stream",
     "text": [
      "     weekday\n",
      "0  Wednesday\n"
     ]
    }
   ],
   "source": [
    "# 🚀 Passo 1: Criar a coluna \"weekday\" no mesmo formato do treino\n",
    "dias_da_semana = [\"Monday\", \"Tuesday\", \"Wednesday\", \"Thursday\", \"Friday\", \"Saturday\", \"Sunday\"]\n",
    "\n",
    "# Criar a coluna \"weekday\" com o nome do dia correspondente\n",
    "for dia in dias_da_semana:\n",
    "    if f\"weekday_{dia}\" in novo_video.columns and novo_video[f\"weekday_{dia}\"].iloc[0] == 1:\n",
    "        novo_video[\"weekday\"] = dia  # Define o nome do dia corretamente\n",
    "\n",
    "# Remover as colunas individuais de cada dia da semana, pois no treino havia apenas \"weekday\"\n",
    "novo_video = novo_video.drop(columns=[f\"weekday_{dia}\" for dia in dias_da_semana if f\"weekday_{dia}\" in novo_video.columns])\n",
    "\n",
    "# Exibir para verificar se a conversão deu certo\n",
    "print(novo_video[[\"weekday\"]])"
   ]
  },
  {
   "cell_type": "code",
   "execution_count": 67,
   "metadata": {},
   "outputs": [
    {
     "name": "stdout",
     "output_type": "stream",
     "text": [
      "   likes  comments  likes_per_view  comments_per_view  title_word_count\n",
      "0      0         0               0                  0                 0\n"
     ]
    }
   ],
   "source": [
    "# 🚀 Passo 2: Adicionar as métricas faltantes para garantir compatibilidade com o treino\n",
    "colunas_faltantes = [\"likes\", \"comments\", \"likes_per_view\", \"comments_per_view\", \"title_word_count\"]\n",
    "\n",
    "# Preencher todas as métricas com 0 (pois o vídeo ainda não foi postado)\n",
    "for col in colunas_faltantes:\n",
    "    novo_video[col] = 0\n",
    "\n",
    "# Exibir para conferir\n",
    "print(novo_video[[\"likes\", \"comments\", \"likes_per_view\", \"comments_per_view\", \"title_word_count\"]])"
   ]
  },
  {
   "cell_type": "code",
   "execution_count": 68,
   "metadata": {},
   "outputs": [
    {
     "name": "stdout",
     "output_type": "stream",
     "text": [
      "TF-IDF Título Shape: (1, 100)\n",
      "TF-IDF Descrição Shape: (1, 100)\n"
     ]
    }
   ],
   "source": [
    "# 🚀 Passo 3: Transformar título e descrição em TF-IDF\n",
    "novo_video_title_tfidf = vectorizer_title.transform(novo_video[\"title\"]).toarray()\n",
    "novo_video_desc_tfidf = vectorizer_desc.transform(novo_video[\"description\"]).toarray()\n",
    "\n",
    "# Criar DataFrames com as features TF-IDF\n",
    "df_title_tfidf_novo = pd.DataFrame(novo_video_title_tfidf, columns=vectorizer_title.get_feature_names_out())\n",
    "df_desc_tfidf_novo = pd.DataFrame(novo_video_desc_tfidf, columns=vectorizer_desc.get_feature_names_out())\n",
    "\n",
    "# Exibir as shapes para verificação\n",
    "print(f\"TF-IDF Título Shape: {df_title_tfidf_novo.shape}\")\n",
    "print(f\"TF-IDF Descrição Shape: {df_desc_tfidf_novo.shape}\")"
   ]
  },
  {
   "cell_type": "code",
   "execution_count": 69,
   "metadata": {},
   "outputs": [
    {
     "name": "stdout",
     "output_type": "stream",
     "text": [
      "✅ Novo vídeo ajustado para 110 features (esperado: 110)\n"
     ]
    }
   ],
   "source": [
    "# 🚀 Passo 4: Juntar os dados numéricos com os TF-IDF\n",
    "novo_video_model = pd.concat([novo_video.drop(columns=[\"title\", \"description\"]), df_title_tfidf_novo, df_desc_tfidf_novo], axis=1)\n",
    "\n",
    "# 🚀 Passo 4: Remover colunas duplicadas antes de reindexar\n",
    "novo_video_model = novo_video_model.loc[:, ~novo_video_model.columns.duplicated()]  # Remove colunas duplicadas\n",
    "\n",
    "# Ajustar colunas para garantir compatibilidade com X_train\n",
    "novo_video_model = novo_video_model.reindex(columns=X_train_columns, fill_value=0)\n",
    "\n",
    "# Converter tudo para numérico\n",
    "novo_video_model = novo_video_model.apply(pd.to_numeric, errors=\"coerce\")\n",
    "\n",
    "print(f\"✅ Novo vídeo ajustado para {novo_video_model.shape[1]} features (esperado: {len(X_train_columns)})\")"
   ]
  },
  {
   "cell_type": "markdown",
   "metadata": {},
   "source": [
    "# AQUI COMEÇA A DAR ERRO -.-"
   ]
  },
  {
   "cell_type": "code",
   "execution_count": 70,
   "metadata": {},
   "outputs": [
    {
     "name": "stdout",
     "output_type": "stream",
     "text": [
      "0\n"
     ]
    }
   ],
   "source": [
    "# 🚀 Substituir valores NaN por 0\n",
    "novo_video_model = novo_video_model.fillna(0)\n",
    "\n",
    "# 🚀 Verificar se ainda há valores NaN\n",
    "print(novo_video_model.isna().sum().sum())  # Deve mostrar 0 se tudo estiver corrigido"
   ]
  },
  {
   "cell_type": "code",
   "execution_count": 71,
   "metadata": {},
   "outputs": [
    {
     "name": "stdout",
     "output_type": "stream",
     "text": [
      "<class 'pandas.core.frame.DataFrame'>\n",
      "(1, 110)\n",
      "   likes  comments  duration_sec  year  month  day  weekday  likes_per_view  \\\n",
      "0      0         0           600  2025      1   31      0.0               0   \n",
      "\n",
      "   comments_per_view  title_word_count  ...  todo  toguro  top  tortuguita  \\\n",
      "0                  0                 0  ...   0.0     0.0  0.0         0.0   \n",
      "\n",
      "   trabalho  treinar   um  usar  você   vs  \n",
      "0       0.0      0.0  0.0   0.0   0.0  0.0  \n",
      "\n",
      "[1 rows x 110 columns]\n"
     ]
    }
   ],
   "source": [
    "print(type(novo_video_model))\n",
    "print(novo_video_model.shape)\n",
    "print(novo_video_model.head())"
   ]
  },
  {
   "cell_type": "code",
   "execution_count": 72,
   "metadata": {},
   "outputs": [
    {
     "name": "stdout",
     "output_type": "stream",
     "text": [
      "📊 Previsão de Visualizações: 17367\n"
     ]
    }
   ],
   "source": [
    "# 🚀 Converter o DataFrame para NumPy antes da previsão\n",
    "previsao_visualizacoes = model_xgb_tuned.predict(novo_video_model.to_numpy())\n",
    "\n",
    "# 🚀 Exibir a previsão\n",
    "print(f\"📊 Previsão de Visualizações: {int(previsao_visualizacoes[0])}\")"
   ]
  }
 ],
 "metadata": {
  "kernelspec": {
   "display_name": "venv",
   "language": "python",
   "name": "python3"
  },
  "language_info": {
   "codemirror_mode": {
    "name": "ipython",
    "version": 3
   },
   "file_extension": ".py",
   "mimetype": "text/x-python",
   "name": "python",
   "nbconvert_exporter": "python",
   "pygments_lexer": "ipython3",
   "version": "3.12.2"
  }
 },
 "nbformat": 4,
 "nbformat_minor": 2
}
